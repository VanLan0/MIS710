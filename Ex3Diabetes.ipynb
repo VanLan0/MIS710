{
  "nbformat": 4,
  "nbformat_minor": 0,
  "metadata": {
    "colab": {
      "name": "Ex3Diabetes.ipynb",
      "provenance": []
    },
    "kernelspec": {
      "name": "python3",
      "display_name": "Python 3"
    },
    "language_info": {
      "name": "python"
    }
  },
  "cells": [
    {
      "cell_type": "markdown",
      "metadata": {
        "id": "IWK1sO_UaeiA"
      },
      "source": [
        "# VNU 2021 April 10th\n",
        "\n",
        "**Exercise 3**\n",
        "Author: Associate Professor Lemai Nguyen\n",
        "\n",
        "Reference:\n",
        "**Pima Indians Diabetes Database**\n",
        "Predict the onset of diabetes based on diagnostic measures\n",
        "\n",
        "**Context**: This dataset is originally from the National Institute of Diabetes and Digestive and Kidney Diseases. The objective of the dataset is to diagnostically predict whether or not a patient has diabetes, based on certain diagnostic measurements included in the dataset. Several constraints were placed on the selection of these instances from a larger database. In particular, all patients here are females at least 21 years old of Pima Indian heritage.\n",
        "\n",
        "**Data**: The datasets consists of several medical predictor variables and one target variable, Outcome. Predictor variables includes the number of pregnancies the patient has had, their BMI, insulin level, age, and so on.\n",
        "\n",
        "**Acknowledgements**\n",
        "\n",
        "Smith, J.W., Everhart, J.E., Dickson, W.C., Knowler, W.C., & Johannes, R.S. (1988). Using the ADAP learning algorithm to forecast the onset of diabetes mellitus. In Proceedings of the Symposium on Computer Applications and Medical Care (pp. 261--265). IEEE Computer Society Press.\n",
        "\n",
        "**Inspiration**\n",
        "\n",
        "Can you build a machine learning model to accurately predict whether or not the patients in the dataset have diabetes or not?\n",
        "\n",
        "**Source**: https://www.kaggle.com/uciml/pima-indians-diabetes-database\n"
      ]
    },
    {
      "cell_type": "markdown",
      "metadata": {
        "id": "jxTV1VTuj9mC"
      },
      "source": [
        "**Loading Libraries and Functions**\n",
        "\n",
        "Read about DecisionTreeClassifier at:\n",
        "https://scikit-learn.org/stable/modules/generated/sklearn.tree.DecisionTreeClassifier.html\n",
        "\n",
        "Train Test Split:\n",
        "https://scikit-learn.org/stable/modules/generated/sklearn.model_selection.train_test_split.html?highlight=train_test_split#sklearn.model_selection.train_test_split\n",
        "\n",
        "Classification metrics:\n",
        "https://scikit-learn.org/stable/modules/model_evaluation.html#classification-metrics"
      ]
    },
    {
      "cell_type": "code",
      "metadata": {
        "id": "lVf5buwkml_I"
      },
      "source": [
        "# load libraries\n",
        "import pandas as pd #for data manipulation and analysis\n",
        "from sklearn.tree import DecisionTreeClassifier # Import Decision Tree Classifier\n",
        "from sklearn.model_selection import train_test_split # Import train_test_split function\n",
        "from sklearn import metrics #Import scikit-learn metrics module for model evaluation\n"
      ],
      "execution_count": 2,
      "outputs": []
    },
    {
      "cell_type": "code",
      "metadata": {
        "id": "p9_TVAw2FOsS",
        "colab": {
          "base_uri": "https://localhost:8080/"
        },
        "outputId": "d573d197-861d-41d6-a169-c651a34c0fad"
      },
      "source": [
        "!pip install pydotplus #interface for graph visualisation\n",
        "!pip install graphviz #for graph visualisation"
      ],
      "execution_count": 1,
      "outputs": [
        {
          "output_type": "stream",
          "text": [
            "Requirement already satisfied: pydotplus in /usr/local/lib/python3.7/dist-packages (2.0.2)\n",
            "Requirement already satisfied: pyparsing>=2.0.1 in /usr/local/lib/python3.7/dist-packages (from pydotplus) (2.4.7)\n",
            "Requirement already satisfied: graphviz in /usr/local/lib/python3.7/dist-packages (0.10.1)\n"
          ],
          "name": "stdout"
        }
      ]
    },
    {
      "cell_type": "markdown",
      "metadata": {
        "id": "B38Q50gZm1vQ"
      },
      "source": [
        "**Loading Data**\n",
        "\n",
        "\n",
        "1.   Load the dataset\n",
        "2.   Explore the data\n",
        "\n"
      ]
    },
    {
      "cell_type": "code",
      "metadata": {
        "id": "xXYXIiopFSPX"
      },
      "source": [
        "# load dataset diabetes.csv\n",
        "\n",
        "records = pd.read_csv(\"..\")\n",
        "\n",
        "#explore the dataset\n",
        "print(records)\n",
        "\n",
        "print('Sample size:', records.shape[0])\n",
        "print('Number of columns:', records.shape[1]) \n",
        "print('General stats:')\n",
        "records.describe()"
      ],
      "execution_count": null,
      "outputs": []
    },
    {
      "cell_type": "markdown",
      "metadata": {
        "id": "WZn9TsB0IlVZ"
      },
      "source": [
        "**Feature Selection**\n",
        "\n",
        "Select predictors (attributes) for Classification\n",
        "Set role (Target)"
      ]
    },
    {
      "cell_type": "code",
      "metadata": {
        "id": "eklK57M5Iuba"
      },
      "source": [
        "#feature selection - select 8 first attributes\n",
        "features = records.columns[..] #these are the selected attributes to be the predictors\n",
        "\n",
        "#set input X to records with selected features\n",
        "X=records[]  #Input data\n",
        "\n",
        "#set target to Outcome\n",
        "y=records[''] # Target variable\n",
        "\n",
        "print(records.head())\n",
        "print(X.head())\n",
        "print(y.head())"
      ],
      "execution_count": null,
      "outputs": []
    },
    {
      "cell_type": "markdown",
      "metadata": {
        "id": "7ZZL19jGNYpv"
      },
      "source": [
        "**Split the Dataset**\n",
        "\n",
        "Split arrays or matrices into random train and test subsets\n",
        "https://scikit-learn.org/stable/modules/generated/sklearn.model_selection.train_test_split.html?highlight=train_test_split#sklearn.model_selection.train_test_split"
      ]
    },
    {
      "cell_type": "code",
      "metadata": {
        "id": "5WQVc9ZINezn"
      },
      "source": [
        "# Split dataset into training set and test set using train_test_split with parameters X, y, test_size=\n",
        "X_train, X_test, y_train, y_test = (..)  # 80% training and 20% testing \n",
        "\n",
        "#inspect the split datasets\n",
        "print(X_train.head())\n",
        "print(y_train.head())\n",
        "\n",
        "print('Training dataset size:',X_train.shape[0])\n",
        "print('Test dataset size:',X_test.shape[0])"
      ],
      "execution_count": null,
      "outputs": []
    },
    {
      "cell_type": "markdown",
      "metadata": {
        "id": "nTtxQ1QBNuCM"
      },
      "source": [
        "**Training a DT Model**\n",
        "\n",
        "1.   Train a model using the training dataset\n",
        "2.   Make prediction using the model for the test dataset\n",
        "\n",
        "Read about DecisionTreeClassifier at: https://scikit-learn.org/stable/modules/generated/sklearn.tree.DecisionTreeClassifier.html\n",
        "\n",
        "\n"
      ]
    },
    {
      "cell_type": "code",
      "metadata": {
        "id": "j42G9zCxN7xI"
      },
      "source": [
        "# Create Decision Tree classifer object\n",
        "clf = DecisionTreeClassifier(criterion=\"entropy\", max_depth=5) #default criterion is gini\n",
        "\n",
        "# Train Decision Tree Classifer with the traning dataset \n",
        "clf = clf.fit(X_train, y_train)\n",
        "\n",
        "#Make predictions for the test dataset\n",
        "y_pred = clf.predict(X_test)\n"
      ],
      "execution_count": 36,
      "outputs": []
    },
    {
      "cell_type": "markdown",
      "metadata": {
        "id": "LytoxXxiOIud"
      },
      "source": [
        "**Inspect Predictions**"
      ]
    },
    {
      "cell_type": "code",
      "metadata": {
        "id": "1X3Nu4SCOGnI"
      },
      "source": [
        "#inspection\n",
        "inspection=pd.DataFrame({'Actual':y_test, 'Predicted':y_pred})\n",
        "inspection.head(20)"
      ],
      "execution_count": null,
      "outputs": []
    },
    {
      "cell_type": "markdown",
      "metadata": {
        "id": "ACm74vWIOM7x"
      },
      "source": [
        "**Model Evaluation**\n",
        "\n",
        "\n",
        "\n",
        "1.   Calculate Accuracy, Precision, Recall, F1\n",
        "\n",
        "\n",
        "Classification metrics: https://scikit-learn.org/stable/modules/model_evaluation.html#classification-metrics\n",
        "\n",
        "\n",
        "\n",
        "\n",
        "\n"
      ]
    },
    {
      "cell_type": "code",
      "metadata": {
        "id": "6Y6yLs8SOXBn"
      },
      "source": [
        "import matplotlib.pyplot as plt\n",
        "from sklearn.metrics import precision_recall_curve\n",
        "from sklearn.metrics import plot_precision_recall_curve\n",
        "from sklearn.metrics import plot_confusion_matrix\n",
        "\n",
        "#Model Evaluation, calculate metrics: Accuracy, Precision, Recall, F1,\n",
        "print(\"Accuracy: \", metrics.accuracy_score(y_test,y_pred))\n",
        "print(\"Precision: \", metrics.precision_score(y_test,y_pred))\n",
        "print(\"Recall: \", metrics.recall_score(y_test,y_pred))\n",
        "print(\"F1: \", metrics.f1_score(y_test,y_pred))\n",
        "\n"
      ],
      "execution_count": null,
      "outputs": []
    },
    {
      "cell_type": "code",
      "metadata": {
        "id": "NvYek0KZ-SdW"
      },
      "source": [
        "#print confusion matrix and evaluation report\n",
        "from sklearn.metrics import classification_report, confusion_matrix\n",
        "print(confusion_matrix(y_test, y_pred))\n",
        "print(classification_report(y_test, y_pred))"
      ],
      "execution_count": null,
      "outputs": []
    },
    {
      "cell_type": "markdown",
      "metadata": {
        "id": "hgbNM-FkRwcL"
      },
      "source": [
        "**Plot ROC (Receiver operating characteristic) curve and confusion matrix**\n",
        "\n",
        "ROC surve\n",
        "https://scikit-learn.org/stable/modules/generated/sklearn.metrics.plot_roc_curve.html?highlight=plot_roc_curve#sklearn.metrics.plot_roc_curve\n",
        "\n",
        "Confusion matrix\n",
        "https://scikit-learn.org/stable/modules/generated/sklearn.metrics.plot_confusion_matrix.html?highlight=plot%20confusion%20matrix#sklearn.metrics.plot_confusion_matrix"
      ]
    },
    {
      "cell_type": "code",
      "metadata": {
        "id": "IWReYThjRzgt"
      },
      "source": [
        "\n",
        "metrics.plot_roc_curve(clf, X_test, y_test)  \n",
        "plt.show()   \n",
        "\n",
        "plot_confusion_matrix(clf, X_test, y_test, cmap=plt.cm.Greens, values_format = '.5g')  \n",
        "plt.show()"
      ],
      "execution_count": null,
      "outputs": []
    },
    {
      "cell_type": "markdown",
      "metadata": {
        "id": "k3hwmq22SElA"
      },
      "source": [
        "**Visualise the DT model**"
      ]
    },
    {
      "cell_type": "code",
      "metadata": {
        "id": "WPn-UbdAOwaO"
      },
      "source": [
        "from sklearn.tree import export_graphviz\n",
        "from sklearn.externals.six import StringIO  \n",
        "from IPython.display import Image  \n",
        "import pydotplus\n",
        "\n",
        "dot_data = StringIO()\n",
        "export_graphviz(clf, out_file=dot_data,  \n",
        "                filled=True, rounded=True,\n",
        "                special_characters=True,feature_names = features,class_names=['0','1'])\n",
        "graph = pydotplus.graph_from_dot_data(dot_data.getvalue())  \n",
        "graph.write_png('Diabetes.png')\n",
        "Image(graph.create_png())"
      ],
      "execution_count": null,
      "outputs": []
    },
    {
      "cell_type": "markdown",
      "metadata": {
        "id": "_H2iUXNy9W0B"
      },
      "source": [
        "**Tuning the decision tree model hyper parameters**"
      ]
    },
    {
      "cell_type": "code",
      "metadata": {
        "id": "OaqmrAP_9f94"
      },
      "source": [
        "#Let's optimise the decision tree\n",
        "# Create Decision Tree classifer object with criterion=\"entropy\", define your own max_depth\n",
        "clf = \n",
        "\n",
        "# Train Decision Tree Classifer using fit\n",
        "clf = clf.\n",
        "\n",
        "#Predict the response for test dataset using predict\n",
        "y_pred = clf.\n",
        "\n",
        "# Model Accuracy, how often is the classifier correct?\n",
        "# metrics.accuracy_score(y_test,y_pred))\n",
        "# metrics.precision_score(y_test,y_pred))\n",
        "# metrics.recall_score(y_test,y_pred))\n",
        "# metrics.f1_score(y_test,y_pred))\n",
        "\n",
        "print(\"Accuracy: \")\n",
        "print(\"Precision: \")\n",
        "print(\"Recall: \")\n",
        "print(\"F1: \")\n",
        "\n",
        "metrics.plot_roc_curve(clf, X_test, y_test)  \n",
        "plt.show()   \n",
        "\n",
        "plot_confusion_matrix(clf, X_test, y_test, cmap=plt.cm.Greens, values_format = '.5g')  \n",
        "plt.show()"
      ],
      "execution_count": null,
      "outputs": []
    },
    {
      "cell_type": "markdown",
      "metadata": {
        "id": "3SpRIaDgdgBW"
      },
      "source": [
        "**Evaluate the new DT**"
      ]
    },
    {
      "cell_type": "code",
      "metadata": {
        "id": "jUjMpm5g-X_A"
      },
      "source": [
        "#print confusion matrix and evaluation report\n",
        "from sklearn.metrics import classification_report, confusion_matrix\n",
        "print(confusion_matrix(y_test, y_pred))\n",
        "print(classification_report(y_test, y_pred))"
      ],
      "execution_count": null,
      "outputs": []
    },
    {
      "cell_type": "markdown",
      "metadata": {
        "id": "IjM-GcB59zx1"
      },
      "source": [
        "**Visualise the new DT**"
      ]
    },
    {
      "cell_type": "code",
      "metadata": {
        "id": "8FwsmT4-92kQ"
      },
      "source": [
        "dot_data = StringIO()\n",
        "export_graphviz(clf, out_file=dot_data,  \n",
        "                filled=True, rounded=True,\n",
        "                special_characters=True, feature_names = features,class_names=['0','1'])\n",
        "graph = pydotplus.graph_from_dot_data(dot_data.getvalue())  \n",
        "graph.write_png('Diabetes.png')\n",
        "Image(graph.create_png())"
      ],
      "execution_count": null,
      "outputs": []
    },
    {
      "cell_type": "markdown",
      "metadata": {
        "id": "_dZ846SE99eZ"
      },
      "source": [
        "**Create Random Forest Model**"
      ]
    },
    {
      "cell_type": "code",
      "metadata": {
        "id": "cC6yw3WM-GvF"
      },
      "source": [
        "from sklearn.ensemble import RandomForestClassifier\n",
        "\n",
        "#Creat a RandomForestClassifier object, set your own parameters n_estimators, max_depth, and criterion\n",
        "rfclf = \n",
        "\n",
        "#Train the RandomForestClassifier\n",
        "rfclf.\n",
        "\n",
        "#Make predictions\n",
        "y_pred = rfclf.\n",
        "\n",
        "#Evaluate the RandomForestClassifier\n",
        "print(classification_report(y_test, y_pred))"
      ],
      "execution_count": null,
      "outputs": []
    },
    {
      "cell_type": "markdown",
      "metadata": {
        "id": "0Aw7H8-zdmGt"
      },
      "source": [
        "**Evaluate the Random Forest Model**"
      ]
    },
    {
      "cell_type": "code",
      "metadata": {
        "id": "HyEMFXv9-7rI"
      },
      "source": [
        "# Model Accuracy, how often is the classifier correct?\n",
        "print(\"Accuracy: \", metrics.accuracy_score(y_test,y_pred))\n",
        "print(\"Precision: \", metrics.precision_score(y_test,y_pred))\n",
        "print(\"Recall: \", metrics.recall_score(y_test,y_pred))\n",
        "print(\"F1: \", metrics.f1_score(y_test,y_pred))\n",
        "\n",
        "#Can you plot roc curve and draw a confusion matrix, dont forget to use plt.show()   \n"
      ],
      "execution_count": null,
      "outputs": []
    }
  ]
}