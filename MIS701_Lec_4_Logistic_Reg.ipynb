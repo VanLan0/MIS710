{
  "nbformat": 4,
  "nbformat_minor": 0,
  "metadata": {
    "colab": {
      "provenance": [],
      "mount_file_id": "1Dhh7IYXl-sk_ru7H2yLr26uiTc9Y1gOH",
      "authorship_tag": "ABX9TyMYEhH3S9TIBJZnpDX5PKCF",
      "include_colab_link": true
    },
    "kernelspec": {
      "display_name": "Python 3",
      "name": "python3"
    },
    "language_info": {
      "name": "python"
    }
  },
  "cells": [
    {
      "cell_type": "markdown",
      "metadata": {
        "id": "view-in-github",
        "colab_type": "text"
      },
      "source": [
        "<a href=\"https://colab.research.google.com/github/VanLan0/MIS710/blob/main/MIS701_Lec_4_Logistic_Reg.ipynb\" target=\"_parent\"><img src=\"https://colab.research.google.com/assets/colab-badge.svg\" alt=\"Open In Colab\"/></a>"
      ]
    },
    {
      "cell_type": "markdown",
      "metadata": {
        "id": "MNkJtLWoPpW7"
      },
      "source": [
        "\n",
        "# **MIS710 Lecture 4**\n",
        "\n",
        "**Introduction to Logistic Regression **\n",
        "Author: Associate Professor Lemai Nguyen\n",
        "\n",
        "Objective:\n",
        "**Cancer Diagnosis**\n",
        "Predict the diagnosis (healthy or cancerous) based on a biopsy dataset.\n",
        "\n",
        "**Context**: The dataset was adapted from a biospy dataset. The dataset contains five (5) biological variables and the target variable. \n",
        "\n",
        "**Data**: \n",
        "V1, V2, V7-V9: biological variables\n",
        "Diagnosis: healthy or cancerous\n",
        "\n",
        "**Source**: adapted from a dataset provided by Dr Mark Griffin, Industry Fellow, University of Queensland; https://www.kaggle.com/datasets/ukveteran/biopsy-data-on-breast-cancer-patients "
      ]
    },
    {
      "cell_type": "markdown",
      "metadata": {
        "id": "jxTV1VTuj9mC"
      },
      "source": [
        "**Loading Libraries and Functions**\n",
        "\n",
        "Read about Logistic Regression at:\n",
        "https://scikit-learn.org/stable/modules/generated/sklearn.linear_model.LogisticRegression.html\n",
        "\n",
        "Train Test Split:\n",
        "https://scikit-learn.org/stable/modules/generated/sklearn.model_selection.train_test_split.html?highlight=train_test_split#sklearn.model_selection.train_test_split\n",
        "\n",
        "Classification metrics:\n",
        "https://scikit-learn.org/stable/modules/model_evaluation.html#classification-metrics"
      ]
    },
    {
      "cell_type": "code",
      "metadata": {
        "id": "p9_TVAw2FOsS"
      },
      "source": [
        "!pip install pydotplus #interface for graph visualisation\n",
        "!pip install graphviz #for graph visualisation"
      ],
      "execution_count": null,
      "outputs": []
    },
    {
      "cell_type": "code",
      "metadata": {
        "id": "lVf5buwkml_I"
      },
      "source": [
        "# load libraries\n",
        "import pandas as pd #for data manipulation and analysis\n",
        "import numpy as np\n",
        " \n",
        "import seaborn as sns\n",
        "import matplotlib.pyplot as plt\n",
        "\n",
        "from sklearn.linear_model import LogisticRegression\n",
        "from sklearn.model_selection import train_test_split # Import train_test_split function\n",
        "from sklearn import metrics #Import scikit-learn metrics module for model evaluation\n",
        "\n"
      ],
      "execution_count": null,
      "outputs": []
    },
    {
      "cell_type": "markdown",
      "metadata": {
        "id": "B38Q50gZm1vQ"
      },
      "source": [
        "# **Loading Data**\n",
        "\n",
        "\n",
        "1.   Load the dataset\n",
        "2.   Explore the data\n",
        "\n"
      ]
    },
    {
      "cell_type": "code",
      "source": [
        "from google.colab import drive\n",
        "drive.mount('/content/drive')"
      ],
      "metadata": {
        "colab": {
          "base_uri": "https://localhost:8080/"
        },
        "id": "8AufWU11ebt3",
        "outputId": "b508dde7-8e79-4ca3-e7a8-830a950089f4"
      },
      "execution_count": null,
      "outputs": [
        {
          "output_type": "stream",
          "name": "stdout",
          "text": [
            "Mounted at /content/drive\n"
          ]
        }
      ]
    },
    {
      "cell_type": "code",
      "source": [
        "url='https://github.com/VanLan0/MIS710/blob/main/biopsy_ln.csv'"
      ],
      "metadata": {
        "id": "fyoLHzxRwGGy"
      },
      "execution_count": null,
      "outputs": []
    },
    {
      "cell_type": "code",
      "metadata": {
        "id": "xXYXIiopFSPX",
        "colab": {
          "base_uri": "https://localhost:8080/"
        },
        "outputId": "52476099-206a-4881-d781-a15dea21991b"
      },
      "source": [
        "# load dataset\n",
        "#records = pd.read_csv(\"/content/drive/MyDrive/Colab Notebooks/MIS710/biopsy_ln.csv\")\n",
        "records = pd.read_csv(url, index_col=0)\n",
        "#explore the dataset\n",
        "print(records)"
      ],
      "execution_count": null,
      "outputs": [
        {
          "output_type": "stream",
          "name": "stdout",
          "text": [
            "         V1  V2  V7  V8  V9 diagnosis\n",
            "ID                                   \n",
            "1177399   8   3   1   6   2   healthy\n",
            "1246562  10   2   1   1   2   healthy\n",
            "1108370   9   5   2   1   5   healthy\n",
            "1165926   9   6   2   9  10   healthy\n",
            "1167439   2   3   2   5   1   healthy\n",
            "...      ..  ..  ..  ..  ..       ...\n",
            "1124651   1   3   7   2   1   healthy\n",
            "1137156   2   2   7   1   1   healthy\n",
            "1147044   3   1   7   1   1   healthy\n",
            "1213375   8   4   7   8   2   healthy\n",
            "721482    4   4   7   3   1   healthy\n",
            "\n",
            "[699 rows x 6 columns]\n"
          ]
        }
      ]
    },
    {
      "cell_type": "code",
      "source": [
        "print(records[50:70])"
      ],
      "metadata": {
        "id": "Rm5pOPRG5hlT"
      },
      "execution_count": null,
      "outputs": []
    },
    {
      "cell_type": "code",
      "source": [
        "records.info(10)"
      ],
      "metadata": {
        "id": "qaThdphidKgB"
      },
      "execution_count": null,
      "outputs": []
    },
    {
      "cell_type": "code",
      "source": [
        "#Inspect missing data\n"
      ],
      "metadata": {
        "colab": {
          "base_uri": "https://localhost:8080/"
        },
        "id": "ytxVLaTRdqaP",
        "outputId": "d2051556-0395-4ae0-956a-5146e8a18241"
      },
      "execution_count": null,
      "outputs": [
        {
          "output_type": "stream",
          "name": "stdout",
          "text": [
            "ID           0\n",
            "V1           0\n",
            "V2           0\n",
            "V7           0\n",
            "V8           0\n",
            "V9           0\n",
            "diagnosis    0\n",
            "dtype: int64\n"
          ]
        }
      ]
    },
    {
      "cell_type": "code",
      "source": [
        "print('Sample size:', records.shape[0])\n",
        "print('Number of columns:', records.shape[1]) \n",
        "\n",
        "records.describe()"
      ],
      "metadata": {
        "id": "w1OFeG-20rL2"
      },
      "execution_count": null,
      "outputs": []
    },
    {
      "cell_type": "code",
      "source": [
        "#records=records.drop(['ID'], axis=1)\n",
        "records.info()"
      ],
      "metadata": {
        "colab": {
          "base_uri": "https://localhost:8080/"
        },
        "id": "wRUf0J7ZaFx4",
        "outputId": "9db4361c-7486-4444-816d-d8413aeaa050"
      },
      "execution_count": null,
      "outputs": [
        {
          "output_type": "stream",
          "name": "stdout",
          "text": [
            "<class 'pandas.core.frame.DataFrame'>\n",
            "Int64Index: 699 entries, 1177399 to 721482\n",
            "Data columns (total 6 columns):\n",
            " #   Column     Non-Null Count  Dtype \n",
            "---  ------     --------------  ----- \n",
            " 0   V1         699 non-null    int64 \n",
            " 1   V2         699 non-null    int64 \n",
            " 2   V7         699 non-null    int64 \n",
            " 3   V8         699 non-null    int64 \n",
            " 4   V9         699 non-null    int64 \n",
            " 5   diagnosis  699 non-null    object\n",
            "dtypes: int64(5), object(1)\n",
            "memory usage: 38.2+ KB\n"
          ]
        }
      ]
    },
    {
      "cell_type": "markdown",
      "source": [
        "#Do NOT do if you have done the previous code!\n",
        "ALTERNATIVE way to remove ID: "
      ],
      "metadata": {
        "id": "HFf2FUlvgL3A"
      }
    },
    {
      "cell_type": "code",
      "source": [
        "#Do NOT do if you have done the previous code!\n",
        "#ALTERNATIVE way to remove ID: \n",
        "records = records.iloc[:,1:]\n",
        "records.head()"
      ],
      "metadata": {
        "colab": {
          "base_uri": "https://localhost:8080/",
          "height": 206
        },
        "id": "3Fr34R0_217k",
        "outputId": "1350b647-e9ad-4778-9b9f-be92cf116b5a"
      },
      "execution_count": null,
      "outputs": [
        {
          "output_type": "execute_result",
          "data": {
            "text/plain": [
              "   V1  V2  V7  V8  V9    class\n",
              "0   8   3   1   6   2  healthy\n",
              "1  10   2   1   1   2  healthy\n",
              "2   9   5   2   1   5  healthy\n",
              "3   9   6   2   9  10  healthy\n",
              "4   2   3   2   5   1  healthy"
            ],
            "text/html": [
              "\n",
              "  <div id=\"df-a63ceccc-77af-4ef7-85cd-bfc0f0a60004\">\n",
              "    <div class=\"colab-df-container\">\n",
              "      <div>\n",
              "<style scoped>\n",
              "    .dataframe tbody tr th:only-of-type {\n",
              "        vertical-align: middle;\n",
              "    }\n",
              "\n",
              "    .dataframe tbody tr th {\n",
              "        vertical-align: top;\n",
              "    }\n",
              "\n",
              "    .dataframe thead th {\n",
              "        text-align: right;\n",
              "    }\n",
              "</style>\n",
              "<table border=\"1\" class=\"dataframe\">\n",
              "  <thead>\n",
              "    <tr style=\"text-align: right;\">\n",
              "      <th></th>\n",
              "      <th>V1</th>\n",
              "      <th>V2</th>\n",
              "      <th>V7</th>\n",
              "      <th>V8</th>\n",
              "      <th>V9</th>\n",
              "      <th>class</th>\n",
              "    </tr>\n",
              "  </thead>\n",
              "  <tbody>\n",
              "    <tr>\n",
              "      <th>0</th>\n",
              "      <td>8</td>\n",
              "      <td>3</td>\n",
              "      <td>1</td>\n",
              "      <td>6</td>\n",
              "      <td>2</td>\n",
              "      <td>healthy</td>\n",
              "    </tr>\n",
              "    <tr>\n",
              "      <th>1</th>\n",
              "      <td>10</td>\n",
              "      <td>2</td>\n",
              "      <td>1</td>\n",
              "      <td>1</td>\n",
              "      <td>2</td>\n",
              "      <td>healthy</td>\n",
              "    </tr>\n",
              "    <tr>\n",
              "      <th>2</th>\n",
              "      <td>9</td>\n",
              "      <td>5</td>\n",
              "      <td>2</td>\n",
              "      <td>1</td>\n",
              "      <td>5</td>\n",
              "      <td>healthy</td>\n",
              "    </tr>\n",
              "    <tr>\n",
              "      <th>3</th>\n",
              "      <td>9</td>\n",
              "      <td>6</td>\n",
              "      <td>2</td>\n",
              "      <td>9</td>\n",
              "      <td>10</td>\n",
              "      <td>healthy</td>\n",
              "    </tr>\n",
              "    <tr>\n",
              "      <th>4</th>\n",
              "      <td>2</td>\n",
              "      <td>3</td>\n",
              "      <td>2</td>\n",
              "      <td>5</td>\n",
              "      <td>1</td>\n",
              "      <td>healthy</td>\n",
              "    </tr>\n",
              "  </tbody>\n",
              "</table>\n",
              "</div>\n",
              "      <button class=\"colab-df-convert\" onclick=\"convertToInteractive('df-a63ceccc-77af-4ef7-85cd-bfc0f0a60004')\"\n",
              "              title=\"Convert this dataframe to an interactive table.\"\n",
              "              style=\"display:none;\">\n",
              "        \n",
              "  <svg xmlns=\"http://www.w3.org/2000/svg\" height=\"24px\"viewBox=\"0 0 24 24\"\n",
              "       width=\"24px\">\n",
              "    <path d=\"M0 0h24v24H0V0z\" fill=\"none\"/>\n",
              "    <path d=\"M18.56 5.44l.94 2.06.94-2.06 2.06-.94-2.06-.94-.94-2.06-.94 2.06-2.06.94zm-11 1L8.5 8.5l.94-2.06 2.06-.94-2.06-.94L8.5 2.5l-.94 2.06-2.06.94zm10 10l.94 2.06.94-2.06 2.06-.94-2.06-.94-.94-2.06-.94 2.06-2.06.94z\"/><path d=\"M17.41 7.96l-1.37-1.37c-.4-.4-.92-.59-1.43-.59-.52 0-1.04.2-1.43.59L10.3 9.45l-7.72 7.72c-.78.78-.78 2.05 0 2.83L4 21.41c.39.39.9.59 1.41.59.51 0 1.02-.2 1.41-.59l7.78-7.78 2.81-2.81c.8-.78.8-2.07 0-2.86zM5.41 20L4 18.59l7.72-7.72 1.47 1.35L5.41 20z\"/>\n",
              "  </svg>\n",
              "      </button>\n",
              "      \n",
              "  <style>\n",
              "    .colab-df-container {\n",
              "      display:flex;\n",
              "      flex-wrap:wrap;\n",
              "      gap: 12px;\n",
              "    }\n",
              "\n",
              "    .colab-df-convert {\n",
              "      background-color: #E8F0FE;\n",
              "      border: none;\n",
              "      border-radius: 50%;\n",
              "      cursor: pointer;\n",
              "      display: none;\n",
              "      fill: #1967D2;\n",
              "      height: 32px;\n",
              "      padding: 0 0 0 0;\n",
              "      width: 32px;\n",
              "    }\n",
              "\n",
              "    .colab-df-convert:hover {\n",
              "      background-color: #E2EBFA;\n",
              "      box-shadow: 0px 1px 2px rgba(60, 64, 67, 0.3), 0px 1px 3px 1px rgba(60, 64, 67, 0.15);\n",
              "      fill: #174EA6;\n",
              "    }\n",
              "\n",
              "    [theme=dark] .colab-df-convert {\n",
              "      background-color: #3B4455;\n",
              "      fill: #D2E3FC;\n",
              "    }\n",
              "\n",
              "    [theme=dark] .colab-df-convert:hover {\n",
              "      background-color: #434B5C;\n",
              "      box-shadow: 0px 1px 3px 1px rgba(0, 0, 0, 0.15);\n",
              "      filter: drop-shadow(0px 1px 2px rgba(0, 0, 0, 0.3));\n",
              "      fill: #FFFFFF;\n",
              "    }\n",
              "  </style>\n",
              "\n",
              "      <script>\n",
              "        const buttonEl =\n",
              "          document.querySelector('#df-a63ceccc-77af-4ef7-85cd-bfc0f0a60004 button.colab-df-convert');\n",
              "        buttonEl.style.display =\n",
              "          google.colab.kernel.accessAllowed ? 'block' : 'none';\n",
              "\n",
              "        async function convertToInteractive(key) {\n",
              "          const element = document.querySelector('#df-a63ceccc-77af-4ef7-85cd-bfc0f0a60004');\n",
              "          const dataTable =\n",
              "            await google.colab.kernel.invokeFunction('convertToInteractive',\n",
              "                                                     [key], {});\n",
              "          if (!dataTable) return;\n",
              "\n",
              "          const docLinkHtml = 'Like what you see? Visit the ' +\n",
              "            '<a target=\"_blank\" href=https://colab.research.google.com/notebooks/data_table.ipynb>data table notebook</a>'\n",
              "            + ' to learn more about interactive tables.';\n",
              "          element.innerHTML = '';\n",
              "          dataTable['output_type'] = 'display_data';\n",
              "          await google.colab.output.renderOutput(dataTable, element);\n",
              "          const docLink = document.createElement('div');\n",
              "          docLink.innerHTML = docLinkHtml;\n",
              "          element.appendChild(docLink);\n",
              "        }\n",
              "      </script>\n",
              "    </div>\n",
              "  </div>\n",
              "  "
            ]
          },
          "metadata": {},
          "execution_count": 19
        }
      ]
    },
    {
      "cell_type": "markdown",
      "source": [
        "# **Visually Exploring Data**\n",
        "1. Explore histograms of continuous variables\n",
        "2. Generate barcharts of categorical variables\n",
        "3. Convert data as needed\n",
        "3. Explore relationships among the variables using heatmaps\n",
        "4. Explore logistric regression relationships between variables "
      ],
      "metadata": {
        "id": "RJhziPbjRRem"
      }
    },
    {
      "cell_type": "code",
      "source": [
        "#create histograms\n",
        "for i in records.iloc[:,:]: \n",
        "    plt.hist(records[i])\n",
        "    plt.title(i)\n",
        "    plt.show()"
      ],
      "metadata": {
        "colab": {
          "base_uri": "https://localhost:8080/",
          "height": 1000
        },
        "id": "owNEshpvAb1G",
        "outputId": "72384377-fc31-483a-e2f4-310e70b3c5f2"
      },
      "execution_count": null,
      "outputs": [
        {
          "output_type": "display_data",
          "data": {
            "text/plain": [
              "<Figure size 432x288 with 1 Axes>"
            ],
            "image/png": "[encoded data removed]"
          },
          "metadata": {
            "needs_background": "light"
          }
        },
        {
          "output_type": "display_data",
          "data": {
            "text/plain": [
              "<Figure size 432x288 with 1 Axes>"
            ],
            "image/png": "[encoded data removed]"
          },
          "metadata": {
            "needs_background": "light"
          }
        },
        {
          "output_type": "display_data",
          "data": {
            "text/plain": [
              "<Figure size 432x288 with 1 Axes>"
            ],
            "image/png": "[encoded data removed]"
          },
          "metadata": {
            "needs_background": "light"
          }
        },
        {
          "output_type": "display_data",
          "data": {
            "text/plain": [
              "<Figure size 432x288 with 1 Axes>"
            ],
            "image/png": "[encoded data removed]"
          },
          "metadata": {
            "needs_background": "light"
          }
        },
        {
          "output_type": "display_data",
          "data": {
            "text/plain": [
              "<Figure size 432x288 with 1 Axes>"
            ],
            "image/png": "[encoded data removed]"
          },
          "metadata": {
            "needs_background": "light"
          }
        },
        {
          "output_type": "display_data",
          "data": {
            "text/plain": [
              "<Figure size 432x288 with 1 Axes>"
            ],
            "image/png": "[encoded data removed]"
          },
          "metadata": {
            "needs_background": "light"
          }
        }
      ]
    },
    {
      "cell_type": "code",
      "source": [
        "from pandas.io.parsers.readers import annotations\n",
        "    #create barchats\n",
        "plot=sns.countplot(data=records, x='diagnosis')\n",
        "plt.show()"
      ],
      "metadata": {
        "colab": {
          "base_uri": "https://localhost:8080/",
          "height": 279
        },
        "id": "VEcOor4L84Fe",
        "outputId": "354f6c4f-13f1-4be4-802f-1c52f1abea96"
      },
      "execution_count": null,
      "outputs": [
        {
          "output_type": "display_data",
          "data": {
            "text/plain": [
              "<Figure size 432x288 with 1 Axes>"
            ],
            "image/png": "[encoded data removed]"
          },
          "metadata": {
            "needs_background": "light"
          }
        }
      ]
    },
    {
      "cell_type": "code",
      "source": [
        "records['diagnosis'].describe()"
      ],
      "metadata": {
        "colab": {
          "base_uri": "https://localhost:8080/"
        },
        "id": "LMhWCwXc95r-",
        "outputId": "0aa7e67a-ea94-4683-ef49-d7bb857229f1"
      },
      "execution_count": null,
      "outputs": [
        {
          "output_type": "execute_result",
          "data": {
            "text/plain": [
              "count         699\n",
              "unique          2\n",
              "top       healthy\n",
              "freq          489\n",
              "Name: diagnosis, dtype: object"
            ]
          },
          "metadata": {},
          "execution_count": 24
        }
      ]
    },
    {
      "cell_type": "markdown",
      "source": [
        "**Do it yourself: examine vairables**"
      ],
      "metadata": {
        "id": "sIvzzfuqgX2d"
      }
    },
    {
      "cell_type": "code",
      "source": [
        "for i in records.columns[1:5]:\n",
        "  sns.boxplot(data=records, x=i, y='diagnosis')\n",
        "  plt.show()"
      ],
      "metadata": {
        "colab": {
          "base_uri": "https://localhost:8080/",
          "height": 1000
        },
        "id": "8HHwvXQLu3gd",
        "outputId": "3b3baf1e-c464-4360-ce85-55e9fb88d714"
      },
      "execution_count": null,
      "outputs": [
        {
          "output_type": "display_data",
          "data": {
            "text/plain": [
              "<Figure size 432x288 with 1 Axes>"
            ],
            "image/png": "[encoded data removed]"
          },
          "metadata": {
            "needs_background": "light"
          }
        },
        {
          "output_type": "display_data",
          "data": {
            "text/plain": [
              "<Figure size 432x288 with 1 Axes>"
            ],
            "image/png": "[encoded data removed]"
          },
          "metadata": {
            "needs_background": "light"
          }
        },
        {
          "output_type": "display_data",
          "data": {
            "text/plain": [
              "<Figure size 432x288 with 1 Axes>"
            ],
            "image/png": "[encoded data removed]"
          },
          "metadata": {
            "needs_background": "light"
          }
        },
        {
          "output_type": "display_data",
          "data": {
            "text/plain": [
              "<Figure size 432x288 with 1 Axes>"
            ],
            "image/png": "[encoded data removed]"
          },
          "metadata": {
            "needs_background": "light"
          }
        }
      ]
    },
    {
      "cell_type": "code",
      "source": [
        "sns.heatmap(data=records.corr(), cmap=\"Blues\", annot=True)"
      ],
      "metadata": {
        "colab": {
          "base_uri": "https://localhost:8080/",
          "height": 286
        },
        "id": "EwrpTLYjOIE1",
        "outputId": "7710258a-e138-4861-962b-3cff313cab07"
      },
      "execution_count": null,
      "outputs": [
        {
          "output_type": "execute_result",
          "data": {
            "text/plain": [
              "<matplotlib.axes._subplots.AxesSubplot at 0x7f2904796a90>"
            ]
          },
          "metadata": {},
          "execution_count": 7
        },
        {
          "output_type": "display_data",
          "data": {
            "text/plain": [
              "<Figure size 432x288 with 2 Axes>"
            ],
            "image/png": "[encoded data removed]"
          },
          "metadata": {
            "needs_background": "light"
          }
        }
      ]
    },
    {
      "cell_type": "markdown",
      "source": [
        "# **Define your own function and call it**"
      ],
      "metadata": {
        "id": "o-q_DuqLExFJ"
      }
    },
    {
      "cell_type": "code",
      "source": [
        "#convert categorical data to numerical \n",
        "def coding_diagnosis(x):\n",
        "        if x=='cancerous': return 1\n",
        "        if x=='healthy': return 0\n",
        "       \n",
        "records['Diagnosis'] = records['diagnosis'].apply(coding_diagnosis)\n",
        "\n",
        "print(records.sample(10))"
      ],
      "metadata": {
        "colab": {
          "base_uri": "https://localhost:8080/"
        },
        "id": "oeNvz-YvcYpX",
        "outputId": "3ecb3627-4b63-40e3-ee41-60ef96da03e8"
      },
      "execution_count": null,
      "outputs": [
        {
          "output_type": "stream",
          "name": "stdout",
          "text": [
            "         V1  V2  V7  V8  V9  diagnosis  Diagnosis\n",
            "ID                                               \n",
            "1036172   2   1   2   1   1    healthy          0\n",
            "1352848   3  10   7   4   1  cancerous          1\n",
            "709287    6   8   8   9   1  cancerous          1\n",
            "1031608   2   1   2   1   1    healthy          0\n",
            "1174428   5   3   5   3   1  cancerous          1\n",
            "1201834   2   1   3   1   1    healthy          0\n",
            "1148278   3   3   4   4   1  cancerous          1\n",
            "1297522   2   1   1   1   1    healthy          0\n",
            "1212251   1   1   3   1   1    healthy          0\n",
            "1198128  10   8   3   1  10    healthy          0\n"
          ]
        }
      ]
    },
    {
      "cell_type": "code",
      "execution_count": null,
      "metadata": {
        "id": "oJz7BvR4yefn",
        "colab": {
          "base_uri": "https://localhost:8080/"
        },
        "outputId": "23f9a39f-cacc-43b8-a49e-e9bd66a05ee8"
      },
      "outputs": [
        {
          "output_type": "stream",
          "name": "stdout",
          "text": [
            "          ID  V1  V2  V7  V8  V9  diagnosis  Diagnosis\n",
            "50   1115282   5   3   4  10   1  cancerous          0\n",
            "251  1184184   1   1   1   1   1    healthy          1\n",
            "157   832567   4   2   7   6   1  cancerous          0\n",
            "472  1272039   1   1   2   1   1    healthy          1\n",
            "568  1143978   5   2   3   1   1    healthy          1\n",
            "488  1299924   5   1   2   1   1    healthy          1\n",
            "222  1222047  10  10  10   6   1  cancerous          0\n",
            "496  1135090   4   1   2   1   1    healthy          1\n",
            "687  1171795   1   3   5   3   2    healthy          1\n",
            "551  1002945   5   4   3   2   1    healthy          1\n"
          ]
        }
      ],
      "source": [
        "#Convert categorical variables to numerical using LabelEncoder\n",
        "from sklearn.preprocessing import LabelEncoder\n",
        "\n",
        "encoder = LabelEncoder()\n",
        "records['Diagnosis'] = encoder.fit_transform(records['diagnosis'])\n",
        "print(records.sample(10))"
      ]
    },
    {
      "cell_type": "markdown",
      "source": [
        "Compare the above two techniques"
      ],
      "metadata": {
        "id": "wOLDYz1hPrBi"
      }
    },
    {
      "cell_type": "code",
      "source": [
        "#generate heatmaps to explore relationships\n",
        "sns.heatmap(records.corr(), cbar=0, linewidths=2,vmax=1, vmin=0, square=True, cmap='Blues')\n",
        "plt.show()"
      ],
      "metadata": {
        "id": "wWtdCU5J1l41",
        "outputId": "560cd888-be3c-4e70-a5ba-600a13c61959",
        "colab": {
          "base_uri": "https://localhost:8080/",
          "height": 265
        }
      },
      "execution_count": null,
      "outputs": [
        {
          "output_type": "display_data",
          "data": {
            "text/plain": [
              "<Figure size 432x288 with 1 Axes>"
            ],
            "image/png": "[encoded data removed]"
          },
          "metadata": {
            "needs_background": "light"
          }
        }
      ]
    },
    {
      "cell_type": "markdown",
      "source": [
        "What can you observe in the heatmap?"
      ],
      "metadata": {
        "id": "IDG1zi7KE_ZS"
      }
    },
    {
      "cell_type": "markdown",
      "source": [
        "**Explore relationships between biomarkers and diagnosis**"
      ],
      "metadata": {
        "id": "UuuKp7YDFP8Y"
      }
    },
    {
      "cell_type": "code",
      "source": [
        "sns.regplot(x=records['V7'], y=records['Diagnosis'], logistic=True, ci=None)"
      ],
      "metadata": {
        "colab": {
          "base_uri": "https://localhost:8080/",
          "height": 352
        },
        "id": "3Quobz1KZEXr",
        "outputId": "b56407de-9e13-4bdb-e066-1f8e412eb8bc"
      },
      "execution_count": null,
      "outputs": [
        {
          "output_type": "stream",
          "name": "stderr",
          "text": [
            "/usr/local/lib/python3.7/dist-packages/statsmodels/tools/_testing.py:19: FutureWarning: pandas.util.testing is deprecated. Use the functions in the public API at pandas.testing instead.\n",
            "  import pandas.util.testing as tm\n"
          ]
        },
        {
          "output_type": "execute_result",
          "data": {
            "text/plain": [
              "<matplotlib.axes._subplots.AxesSubplot at 0x7f0619365190>"
            ]
          },
          "metadata": {},
          "execution_count": 26
        },
        {
          "output_type": "display_data",
          "data": {
            "text/plain": [
              "<Figure size 432x288 with 1 Axes>"
            ],
            "image/png": "[encoded data removed]"
          },
          "metadata": {
            "needs_background": "light"
          }
        }
      ]
    },
    {
      "cell_type": "markdown",
      "metadata": {
        "id": "WZn9TsB0IlVZ"
      },
      "source": [
        "**Feature Selection**\n",
        "\n",
        "Select predictors (attributes) for Classification\n",
        "Set role (Target)"
      ]
    },
    {
      "cell_type": "code",
      "metadata": {
        "id": "eklK57M5Iuba"
      },
      "source": [
        "#Selecting predictors\n",
        "features =['V1', 'V2', 'V7', 'V8', 'V9'] #you can select a range of columns features = records.columns[0:5]\n",
        "\n",
        "#complete the code below\n",
        "X= records[features]\n",
        "y= records['Diagnosis']  # Target variable\n"
      ],
      "execution_count": null,
      "outputs": []
    },
    {
      "cell_type": "markdown",
      "metadata": {
        "id": "7ZZL19jGNYpv"
      },
      "source": [
        "# **Split the Dataset**\n",
        "\n",
        "Split arrays or matrices into random train and test subsets\n",
        "https://scikit-learn.org/stable/modules/generated/sklearn.model_selection.train_test_split.html?highlight=train_test_split#sklearn.model_selection.train_test_split"
      ]
    },
    {
      "cell_type": "code",
      "metadata": {
        "id": "5WQVc9ZINezn",
        "colab": {
          "base_uri": "https://localhost:8080/"
        },
        "outputId": "3ed1cfe6-55e8-4ea7-b22a-6e242c28a2cb"
      },
      "source": [
        "# Split dataset into training set and test set\n",
        "X_train, X_test, y_train, y_test = train_test_split(X, y, test_size=0.2, random_state=1)  # 80% training and 20% testing \n",
        "\n",
        "#inspect the split datasets\n",
        "\n",
        "print(X_train.shape)\n",
        "print(y_train.shape)\n",
        "print(X_test.shape)\n",
        "print(y_test.shape)"
      ],
      "execution_count": null,
      "outputs": [
        {
          "output_type": "stream",
          "name": "stdout",
          "text": [
            "(559, 5)\n",
            "(559,)\n",
            "(140, 5)\n",
            "(140,)\n"
          ]
        }
      ]
    },
    {
      "cell_type": "markdown",
      "metadata": {
        "id": "nTtxQ1QBNuCM"
      },
      "source": [
        "# **Training a Logistic Regression Model**\n",
        "\n",
        "1.   Train a model using the training dataset\n",
        "2.   Make prediction using the model for the test dataset\n",
        "\n",
        "Read about Logistic Regression Classifier at: https://scikit-learn.org/stable/modules/generated/sklearn.linear_model.LogisticRegression.html\n",
        "\n",
        "\n"
      ]
    },
    {
      "cell_type": "code",
      "metadata": {
        "id": "j42G9zCxN7xI"
      },
      "source": [
        "# Create Logitic Regression classifer object\n",
        "\n",
        "#Create an initial Logistic Regression model\n",
        "logreg = LogisticRegression(max_iter=100)\n",
        "\n",
        "# Complete the code to train Logistic Regression Classifer with the traning dataset \n",
        "logreg = logreg.fit(X_train, y_train)\n",
        "\n",
        "#Complete the code to make predictions for the test dataset\n",
        "y_pred = logreg.predict(X_test)\n"
      ],
      "execution_count": null,
      "outputs": []
    },
    {
      "cell_type": "code",
      "source": [
        "#get predicted probabilities for the main class\n",
        "y_pred_probs = logreg.predict_proba(X_test)\n",
        "y_pred_probs = y_pred_probs[:, 1]\n",
        "print(y_pred_probs)"
      ],
      "metadata": {
        "id": "nuwrfoRo7bzk"
      },
      "execution_count": null,
      "outputs": []
    },
    {
      "cell_type": "code",
      "source": [
        "#get fpr and tpr and plot the ROC curve\n",
        "from sklearn.metrics import roc_curve, roc_auc_score\n",
        "\n",
        "lr_fpr, lr_tpr, thresholds = roc_curve(y_test, y_pred_probs)\n",
        "\n",
        "sns.scatterplot(x=lr_fpr, y=lr_tpr, label='Roc Curve')"
      ],
      "metadata": {
        "colab": {
          "base_uri": "https://localhost:8080/",
          "height": 282
        },
        "id": "z2_TCk5A9f6t",
        "outputId": "1b1387a8-4e91-48ac-d553-67fe1bccc7d7"
      },
      "execution_count": null,
      "outputs": [
        {
          "output_type": "execute_result",
          "data": {
            "text/plain": [
              "<AxesSubplot:>"
            ]
          },
          "metadata": {},
          "execution_count": 102
        },
        {
          "output_type": "display_data",
          "data": {
            "text/plain": [
              "<Figure size 432x288 with 1 Axes>"
            ],
            "image/png": "[encoded data removed]"
          },
          "metadata": {
            "needs_background": "light"
          }
        }
      ]
    },
    {
      "cell_type": "code",
      "source": [
        "sns.lineplot(x=lr_fpr, y=lr_tpr, label='Roc Curve')"
      ],
      "metadata": {
        "colab": {
          "base_uri": "https://localhost:8080/",
          "height": 282
        },
        "id": "enYy-BoHIkyV",
        "outputId": "b693b1c1-6c2a-428e-a3bd-9ec962900a88"
      },
      "execution_count": null,
      "outputs": [
        {
          "output_type": "execute_result",
          "data": {
            "text/plain": [
              "<AxesSubplot:>"
            ]
          },
          "metadata": {},
          "execution_count": 78
        },
        {
          "output_type": "display_data",
          "data": {
            "text/plain": [
              "<Figure size 432x288 with 1 Axes>"
            ],
            "image/png": "[encoded data removed]"
          },
          "metadata": {
            "needs_background": "light"
          }
        }
      ]
    },
    {
      "cell_type": "code",
      "source": [
        "roc_points=pd.DataFrame({'FPR':lr_fpr, 'TPR':lr_tpr, 'Thresholds': thresholds})\n",
        "print(roc_points.round(3))"
      ],
      "metadata": {
        "id": "-1AApNyKAhaT"
      },
      "execution_count": null,
      "outputs": []
    },
    {
      "cell_type": "code",
      "source": [
        "# create an array of candidate thresholds\n",
        "thresholds2 = np.linspace(0, 1, 101)\n",
        "\n",
        "# initialize variables to store the best threshold and the highest AUC score\n",
        "best_threshold = None\n",
        "highest_auc_score = -1\n",
        "\n",
        "# iterate over the thresholds and compute the AUC score for each\n",
        "for threshold in thresholds2:\n",
        "    y_pred_test = (y_pred_probs >= threshold).astype(int)\n",
        "    auc_score = roc_auc_score(y_test, y_pred_test)\n",
        "    if auc_score > highest_auc_score:\n",
        "        highest_auc_score = auc_score\n",
        "        best_threshold = threshold\n",
        "\n",
        "# print the best threshold and the highest AUC score on the test data\n",
        "print('Best threshold:', best_threshold)\n",
        "print('Highest AUC score:', highest_auc_score)"
      ],
      "metadata": {
        "colab": {
          "base_uri": "https://localhost:8080/"
        },
        "id": "7ZJXghZK9rOr",
        "outputId": "f5831ae4-7c98-4ddd-cc43-51731b8a4f94"
      },
      "execution_count": null,
      "outputs": [
        {
          "output_type": "stream",
          "name": "stdout",
          "text": [
            "Best threshold on training data: 0.16\n",
            "Highest AUC score on training data: 0.9415204678362574\n"
          ]
        }
      ]
    },
    {
      "cell_type": "code",
      "source": [
        "# compute the fpr, tpr, and thresholds for the ROC curve on the training data\n",
        "#fpr, tpr, thresholds = roc_curve(y_test, y_pred_test)\n",
        "\n",
        "# find the index of the best threshold in the thresholds array\n",
        "best_index = np.argmax(lr_tpr - lr_fpr)\n",
        "print('Best threshold:', thresholds[best_index].round(1))\n",
        "\n",
        "# plot the ROC curve and the best point\n",
        "plt.plot(lr_fpr, lr_tpr, label='ROC curve')\n",
        "plt.scatter(lr_fpr[best_index], lr_tpr[best_index], marker='o', color='red', label='Best threshold')\n",
        "plt.xlabel('False Positive Rate')\n",
        "plt.ylabel('True Positive Rate')\n",
        "plt.title('Receiver Operating Characteristic (ROC) Curve')\n",
        "plt.legend()\n",
        "plt.show()"
      ],
      "metadata": {
        "colab": {
          "base_uri": "https://localhost:8080/",
          "height": 312
        },
        "id": "uIcY5M3KFydl",
        "outputId": "c7774fe4-ac07-4dab-ea6a-2fdf2085001b"
      },
      "execution_count": null,
      "outputs": [
        {
          "output_type": "stream",
          "name": "stdout",
          "text": [
            "Best threshold: 0.2\n"
          ]
        },
        {
          "output_type": "display_data",
          "data": {
            "text/plain": [
              "<Figure size 432x288 with 1 Axes>"
            ],
            "image/png": "[encoded data removed]"
          },
          "metadata": {
            "needs_background": "light"
          }
        }
      ]
    },
    {
      "cell_type": "markdown",
      "metadata": {
        "id": "LytoxXxiOIud"
      },
      "source": [
        "**Inspect Predictions**"
      ]
    },
    {
      "cell_type": "code",
      "metadata": {
        "id": "1X3Nu4SCOGnI"
      },
      "source": [
        "#join unseen y_test with predicted value into a data frame\n",
        "inspection=pd.DataFrame({'Actual':y_test, 'Predicted':y_pred})\n",
        "\n",
        "#join X_test with the new dataframe\n",
        "inspection=pd.concat([X_test,inspection], axis=1)\n",
        "\n",
        "inspection.head(20)"
      ],
      "execution_count": null,
      "outputs": []
    },
    {
      "cell_type": "markdown",
      "metadata": {
        "id": "ACm74vWIOM7x"
      },
      "source": [
        "# **Model Evaluation**\n",
        "\n",
        "\n",
        "\n",
        "1.   Calculate Accuracy, Precision, Recall, F1\n",
        "\n",
        "\n",
        "Classification metrics: https://scikit-learn.org/stable/modules/model_evaluation.html#classification-metrics\n",
        "\n",
        "\n",
        "\n",
        "\n",
        "\n"
      ]
    },
    {
      "cell_type": "code",
      "metadata": {
        "colab": {
          "base_uri": "https://localhost:8080/"
        },
        "id": "6Y6yLs8SOXBn",
        "outputId": "845c4976-e376-4c35-f368-3ff3ab19485e"
      },
      "source": [
        "#import evaluation functions\n",
        "from sklearn.metrics import precision_recall_curve\n",
        "from sklearn.metrics import plot_precision_recall_curve\n",
        "from sklearn.metrics import plot_confusion_matrix\n",
        "\n",
        "#Model Evaluation, calculate metrics: Accuracy, Precision, Recall, F1,\n",
        "print(\"Accuracy: \", metrics.accuracy_score(y_test,y_pred))\n",
        "print(\"Precision: \", metrics.precision_score(y_test,y_pred))\n",
        "print(\"Recall: \", metrics.recall_score(y_test,y_pred))\n",
        "print(\"F1: \", metrics.f1_score(y_test,y_pred))"
      ],
      "execution_count": null,
      "outputs": [
        {
          "output_type": "stream",
          "name": "stdout",
          "text": [
            "Accuracy:  0.9142857142857143\n",
            "Precision:  0.8837209302325582\n",
            "Recall:  0.8444444444444444\n",
            "F1:  0.8636363636363636\n"
          ]
        }
      ]
    },
    {
      "cell_type": "markdown",
      "source": [
        "Interpret the above"
      ],
      "metadata": {
        "id": "852gk72fGX_W"
      }
    },
    {
      "cell_type": "code",
      "metadata": {
        "colab": {
          "base_uri": "https://localhost:8080/"
        },
        "id": "NvYek0KZ-SdW",
        "outputId": "8de8c793-fe20-47b5-d17c-6a2519ae960b"
      },
      "source": [
        "#print confusion matrix and evaluation report\n",
        "from sklearn.metrics import classification_report, confusion_matrix\n",
        "print(confusion_matrix(y_test, y_pred))\n",
        "print(classification_report(y_test, y_pred))"
      ],
      "execution_count": null,
      "outputs": [
        {
          "output_type": "stream",
          "name": "stdout",
          "text": [
            "[[90  5]\n",
            " [ 7 38]]\n",
            "              precision    recall  f1-score   support\n",
            "\n",
            "           0       0.93      0.95      0.94        95\n",
            "           1       0.88      0.84      0.86        45\n",
            "\n",
            "    accuracy                           0.91       140\n",
            "   macro avg       0.91      0.90      0.90       140\n",
            "weighted avg       0.91      0.91      0.91       140\n",
            "\n"
          ]
        }
      ]
    },
    {
      "cell_type": "markdown",
      "source": [],
      "metadata": {
        "id": "RGTB7WAeS-jO"
      }
    },
    {
      "cell_type": "markdown",
      "metadata": {
        "id": "hgbNM-FkRwcL"
      },
      "source": [
        "**Plot ROC (Receiver operating characteristic) curve and confusion matrix**\n",
        "\n",
        "ROC surve\n",
        "https://scikit-learn.org/stable/modules/generated/sklearn.metrics.plot_roc_curve.html?highlight=plot_roc_curve#sklearn.metrics.plot_roc_curve\n",
        "\n",
        "Confusion matrix\n",
        "https://scikit-learn.org/stable/modules/generated/sklearn.metrics.plot_confusion_matrix.html?highlight=plot%20confusion%20matrix#sklearn.metrics.plot_confusion_matrix"
      ]
    },
    {
      "cell_type": "code",
      "metadata": {
        "colab": {
          "base_uri": "https://localhost:8080/",
          "height": 545
        },
        "id": "IWReYThjRzgt",
        "outputId": "466494c7-d8c2-4e30-e8fe-483f843f6678"
      },
      "source": [
        "#import classes to display RocCurve and Confusion Matrix, read example from the website and try on your own\n",
        "from sklearn.metrics import RocCurveDisplay\n",
        "from sklearn.metrics import ConfusionMatrixDisplay\n",
        "\n",
        "#RocCurveDisplay.from_estimator(logreg,X_test, y_test)\n",
        "RocCurveDisplay.from_predictions(y_test, y_pred_probs)\n",
        "ConfusionMatrixDisplay.from_predictions(y_test, y_pred)\n",
        "plt.show()"
      ],
      "execution_count": null,
      "outputs": [
        {
          "output_type": "display_data",
          "data": {
            "text/plain": [
              "<Figure size 432x288 with 1 Axes>"
            ],
            "image/png": "[encoded data removed]"
          },
          "metadata": {
            "needs_background": "light"
          }
        },
        {
          "output_type": "display_data",
          "data": {
            "text/plain": [
              "<Figure size 432x288 with 2 Axes>"
            ],
            "image/png": "[encoded data removed]"
          },
          "metadata": {
            "needs_background": "light"
          }
        }
      ]
    },
    {
      "cell_type": "code",
      "source": [
        "#ROC for the probabilities of y_pred\n",
        "RocCurveDisplay.from_predictions(y_test, y_pred_probs)"
      ],
      "metadata": {
        "colab": {
          "base_uri": "https://localhost:8080/",
          "height": 296
        },
        "id": "X2xRphzMKGZj",
        "outputId": "cf6acc7e-2dc2-48df-dbba-5fe623a323fd"
      },
      "execution_count": null,
      "outputs": [
        {
          "output_type": "execute_result",
          "data": {
            "text/plain": [
              "<sklearn.metrics._plot.roc_curve.RocCurveDisplay at 0x7ff625fb6100>"
            ]
          },
          "metadata": {},
          "execution_count": 108
        },
        {
          "output_type": "display_data",
          "data": {
            "text/plain": [
              "<Figure size 432x288 with 1 Axes>"
            ],
            "image/png": "[encoded data removed]"
          },
          "metadata": {
            "needs_background": "light"
          }
        }
      ]
    },
    {
      "cell_type": "code",
      "source": [
        "#Confusion Matrix for a new probability\n",
        "y_pred_best = (y_pred_probs >= thresholds[best_index]).astype(int)\n",
        "ConfusionMatrixDisplay.from_predictions(y_test, y_pred_best)"
      ],
      "metadata": {
        "colab": {
          "base_uri": "https://localhost:8080/",
          "height": 296
        },
        "id": "Iq8A-5ARSChJ",
        "outputId": "9e4be66a-dc16-49c2-c4ab-a9f957cc5306"
      },
      "execution_count": null,
      "outputs": [
        {
          "output_type": "execute_result",
          "data": {
            "text/plain": [
              "<sklearn.metrics._plot.confusion_matrix.ConfusionMatrixDisplay at 0x7ff62606dee0>"
            ]
          },
          "metadata": {},
          "execution_count": 110
        },
        {
          "output_type": "display_data",
          "data": {
            "text/plain": [
              "<Figure size 432x288 with 2 Axes>"
            ],
            "image/png": "[encoded data removed]"
          },
          "metadata": {
            "needs_background": "light"
          }
        }
      ]
    },
    {
      "cell_type": "code",
      "source": [
        "# Define the sigmoid function\n",
        "def sigmoid(x):\n",
        "    return 1 / (1 + np.exp(-x))\n",
        "\n",
        "# Generate a sequence of points along the x axis\n",
        "x_vals = np.linspace(-10, 10, 100)\n",
        "\n",
        "# Calculate the corresponding y values using the model coefficients\n",
        "coef = logreg.coef_.flatten()\n",
        "intercept = logreg.intercept_\n",
        "y_vals = sigmoid(np.dot(X_test, coef) + intercept)\n",
        "\n",
        "# Plot the sigmoid curve using seaborn\n",
        "sns.lineplot(x=x_vals, y=sigmoid(x_vals), label='Sigmoid Curve')\n",
        "sns.lineplot(x=x_vals, y=sigmoid(np.dot(np.column_stack(([x_vals]*5)), coef) + intercept), label='Model Fit')\n",
        "sns.set_style('darkgrid')\n",
        "sns.set_context('notebook', font_scale=1.2)\n",
        "sns.scatterplot(x=X_test['V7'], y=y_test, color='blue')\n",
        "plt.xlabel('Biomarker e.g. V7')\n",
        "plt.ylabel('Diagnosis')\n",
        "plt.title('Logistic Regression Sigmoid Curve')\n",
        "plt.legend()\n",
        "plt.show()"
      ],
      "metadata": {
        "colab": {
          "base_uri": "https://localhost:8080/",
          "height": 306
        },
        "id": "6QpSRDB4tbxj",
        "outputId": "cb2506ed-9896-476c-85b2-a0caa5c1a228"
      },
      "execution_count": null,
      "outputs": [
        {
          "output_type": "display_data",
          "data": {
            "text/plain": [
              "<Figure size 432x288 with 1 Axes>"
            ],
            "image/png": "[encoded data removed]"
          },
          "metadata": {}
        }
      ]
    },
    {
      "cell_type": "code",
      "source": [
        "print(coef[0])"
      ],
      "metadata": {
        "colab": {
          "base_uri": "https://localhost:8080/"
        },
        "id": "ji0DpFAZvnlC",
        "outputId": "817cf827-a17f-4d97-a317-268d48c2c6ed"
      },
      "execution_count": null,
      "outputs": [
        {
          "output_type": "stream",
          "name": "stdout",
          "text": [
            "0.3398365008600734\n"
          ]
        }
      ]
    },
    {
      "cell_type": "code",
      "source": [
        "print('Diagnosis= ', '%.3f' % intercept, '+', '%.3f' %coef[0], '*V1', '+', '%.3f' %coef[1], '*V2', '+', '%.3f' %coef[2], '*V7', '+', '%.3f' %coef[3], '*V8', '+', '%.3f' %coef[4], '*V9')"
      ],
      "metadata": {
        "colab": {
          "base_uri": "https://localhost:8080/"
        },
        "id": "BWDtaAztv5KS",
        "outputId": "15e75ee7-b1f0-4700-f09a-729aedb4bf6b"
      },
      "execution_count": null,
      "outputs": [
        {
          "output_type": "stream",
          "name": "stdout",
          "text": [
            "Diagnosis=  -9.123 + 0.340 *V1 + 0.116 *V2 + 1.316 *V7 + 0.221 *V8 + 0.045 *V9\n"
          ]
        }
      ]
    }
  ]
}